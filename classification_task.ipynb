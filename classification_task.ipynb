{
 "cells": [
  {
   "cell_type": "markdown",
   "metadata": {},
   "source": [
    "This notebook shows the classification result (including Table 2 and Fig S1) in\n",
    "\n",
    "    <Deriving information from missing data: implications for mood prediction>"
   ]
  },
  {
   "cell_type": "code",
   "execution_count": 1,
   "metadata": {},
   "outputs": [],
   "source": [
    "import os\n",
    "\n",
    "import random\n",
    "from sklearn.metrics import classification_report, confusion_matrix\n",
    "import numpy as np\n",
    "import csv\n",
    "\n",
    "import matplotlib.dates as mdates\n",
    "import h5py\n",
    "\n",
    "\n",
    "import copy\n",
    "from sklearn.ensemble import RandomForestRegressor\n",
    "from sklearn.ensemble import RandomForestClassifier\n",
    "import iisignature\n",
    "from datetime import date\n",
    "\n",
    "\n",
    "random.seed(42)\n",
    "from data_cleaning import *\n",
    "from classifiers import *\n",
    "from data_transforms import *"
   ]
  },
  {
   "cell_type": "markdown",
   "metadata": {},
   "source": [
    "Load ALTAN/QIDS data in AMoSS dataset"
   ]
  },
  {
   "cell_type": "code",
   "execution_count": 3,
   "metadata": {},
   "outputs": [
    {
     "name": "stdout",
     "output_type": "stream",
     "text": [
      "14050\n"
     ]
    }
   ],
   "source": [
    "test_path='./all-true-colours-matlab-2017-02-27-18-38-12-nick/'\n",
    "participants_list, participants_data_list,\\\n",
    "        participants_time_list=loadParticipants(test_path)\n",
    "Participants=make_classes(participants_data_list,participants_time_list,participants_list)\n",
    "cohort=cleaning_sameweek_data(cleaning_same_data(Participants))"
   ]
  },
  {
   "cell_type": "markdown",
   "metadata": {},
   "source": [
    "run the following three models in one function:\n",
    "    \n",
    "    * missing-response-incorporated signature-based classification model (MRSCM, level2)\n",
    "    * missing-response-incorporated signature-based classification model (MRSCM, level3)\n",
    "    * naive classification model "
   ]
  },
  {
   "cell_type": "code",
   "execution_count": 4,
   "metadata": {},
   "outputs": [],
   "source": [
    "if __name__ == \"__main__\":\n",
    "\n",
    "\n",
    "    CM, mean_accuracy, accuracy_vectors=model_onego(cohort, 20,\\\n",
    "                                                    training=0.7,\\\n",
    "                                                    sample_size=100)"
   ]
  },
  {
   "cell_type": "code",
   "execution_count": 13,
   "metadata": {},
   "outputs": [
    {
     "name": "stdout",
     "output_type": "stream",
     "text": [
      "For naive classification model:\n",
      "the mean accuracy is 0.5607894736842108\n",
      "the confusion matrix is:\n",
      "  [[ 382.  204.  417.]\n",
      " [  47. 1021.  292.]\n",
      " [ 213.  496.  728.]]\n"
     ]
    }
   ],
   "source": [
    "print(\"For naive classification model:\")\n",
    "print(\"the mean accuracy is\",mean_accuracy[0])\n",
    "print(\"the confusion matrix is:\\n \",CM[0])"
   ]
  },
  {
   "cell_type": "code",
   "execution_count": 14,
   "metadata": {},
   "outputs": [
    {
     "name": "stdout",
     "output_type": "stream",
     "text": [
      "For MRSCM, level2:\n",
      "the mean accuracy is 0.6568421052631578\n",
      "the confusion matrix is:\n",
      "  [[ 558.  116.  329.]\n",
      " [  19. 1089.  252.]\n",
      " [ 255.  333.  849.]]\n"
     ]
    }
   ],
   "source": [
    "print(\"For MRSCM, level2:\")\n",
    "print(\"the mean accuracy is\",mean_accuracy[1])\n",
    "print(\"the confusion matrix is:\\n \",CM[1])"
   ]
  },
  {
   "cell_type": "markdown",
   "metadata": {},
   "source": [
    "Corresponding f1 scores can be computed based on above confusion matrices."
   ]
  }
 ],
 "metadata": {
  "kernelspec": {
   "display_name": "Python 3",
   "language": "python",
   "name": "python3"
  },
  "language_info": {
   "codemirror_mode": {
    "name": "ipython",
    "version": 3
   },
   "file_extension": ".py",
   "mimetype": "text/x-python",
   "name": "python",
   "nbconvert_exporter": "python",
   "pygments_lexer": "ipython3",
   "version": "3.6.9"
  }
 },
 "nbformat": 4,
 "nbformat_minor": 2
}
