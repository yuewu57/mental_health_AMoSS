{
 "cells": [
  {
   "cell_type": "markdown",
   "metadata": {},
   "source": [
    "\n",
    "This notebook shows the prediction result in Sec 3.2 (including Table 3-5) in\n",
    "\n",
    "    <Deriving information from missing data: implications for mood prediction>\n",
    "    \n",
    "    note that the participant is borderline (0), healthy (1) or bipolar (2)."
   ]
  },
  {
   "cell_type": "code",
   "execution_count": 1,
   "metadata": {},
   "outputs": [],
   "source": [
    "import os\n",
    "import random\n",
    "import numpy as np\n",
    "import datetime\n",
    "import h5py\n",
    "import time\n",
    "import csv\n",
    "import math\n",
    "import scipy\n",
    "import copy\n",
    "import iisignature\n",
    "from datetime import date\n",
    "import matplotlib.dates as mdates\n",
    "import matplotlib.pyplot as plt\n",
    "\n",
    "\n",
    "from sklearn.ensemble import RandomForestRegressor\n",
    "from sklearn.ensemble import RandomForestClassifier\n",
    "from sklearn.metrics import accuracy_score\n",
    "from sklearn.preprocessing import LabelEncoder\n",
    "\n",
    "\n",
    "\n",
    "from sklearn.metrics import r2_score\n",
    "from sklearn.metrics import roc_curve, auc\n",
    "from sklearn.model_selection import train_test_split\n",
    "from sklearn.multiclass import OneVsRestClassifier\n",
    "\n",
    "from prediction_functions import *"
   ]
  },
  {
   "cell_type": "markdown",
   "metadata": {},
   "source": [
    "Load cohort dataset "
   ]
  },
  {
   "cell_type": "code",
   "execution_count": 3,
   "metadata": {},
   "outputs": [
    {
     "name": "stdout",
     "output_type": "stream",
     "text": [
      "14050\n"
     ]
    }
   ],
   "source": [
    "test_path='./all-true-colours-matlab-2017-02-27-18-38-12-nick/'\n",
    "participants_list, participants_data_list, participants_time_list=loadParticipants(test_path)\n",
    "\n",
    "\n",
    "Participants=make_classes(participants_data_list,participants_time_list,\\\n",
    "                                                            participants_list)\n",
    "\n",
    "cohort=cleaning_sameweek_data(cleaning_same_data(Participants))"
   ]
  },
  {
   "cell_type": "code",
   "execution_count": 13,
   "metadata": {},
   "outputs": [],
   "source": [
    "class_dic={0: \"BPD\",\n",
    "           1: \"HC\",\n",
    "           2: \"BD\"}"
   ]
  },
  {
   "cell_type": "markdown",
   "metadata": {},
   "source": [
    "**1.** Run state prediction in Sec 3.2.1, with the following two models in one function 'comprehensive_model':\n",
    "    \n",
    "    * missing-response-incorporated signature-based predictive model (MRSCM, level2)\n",
    "    * naive predictive model "
   ]
  },
  {
   "cell_type": "code",
   "execution_count": 22,
   "metadata": {},
   "outputs": [
    {
     "name": "stdout",
     "output_type": "stream",
     "text": [
      "Class BPD with min length 10\n",
      "____________________\n",
      "ASRM state accuracy for naive prediction model and MRSPM (level 2):\n",
      "[0.6175, 0.7062]\n",
      "QIDS state accuracy for naive prediction model and MRSPM (level 2):\n",
      "[0.595, 0.6475]\n",
      "\n",
      "\n",
      "Class HC with min length 10\n",
      "____________________\n",
      "ASRM state accuracy for naive prediction model and MRSPM (level 2):\n",
      "[0.70125, 0.79875]\n",
      "QIDS state accuracy for naive prediction model and MRSPM (level 2):\n",
      "[0.71625, 0.78875]\n",
      "\n",
      "\n",
      "Class BD with min length 10\n",
      "____________________\n",
      "ASRM state accuracy for naive prediction model and MRSPM (level 2):\n",
      "[0.586, 0.652]\n",
      "QIDS state accuracy for naive prediction model and MRSPM (level 2):\n",
      "[0.556, 0.602]\n",
      "\n",
      "\n"
     ]
    }
   ],
   "source": [
    "if __name__ == \"__main__\":\n",
    "\n",
    " \n",
    "    sample_size=50\n",
    "\n",
    "    minlen=10\n",
    "\n",
    "    for class_ in [int(0), int(1),int(2)]:\n",
    "        \n",
    "        print('Class', class_dic[class_], 'with min length',minlen)\n",
    "        print(\"____________________\")\n",
    "        \n",
    "        accuracy=comprehensive_model(Participants,\\\n",
    "                                     class_,\\\n",
    "                                     minlen=10,\\\n",
    "                                     training=0.7,\\\n",
    "                                     sample_size=10,\\\n",
    "                                     cumsum=True)\n",
    "        \n",
    "        print(\"ASRM state accuracy for naive prediction model and MRSPM (level 2):\")\n",
    "        print(accuracy[0])\n",
    "        \n",
    "        print(\"QIDS state accuracy for naive prediction model and MRSPM (level 2):\")\n",
    "        print(accuracy[1])\n",
    "        print('\\n')"
   ]
  },
  {
   "cell_type": "markdown",
   "metadata": {},
   "source": [
    "**2.** Run score prediction in Sec 3.2.2, with the following two models in one function 'comprehensive_nomissing_model':\n",
    "    \n",
    "    * missing-response-incorporated signature-based predictive model (scoreMRSCM, level2)\n",
    "    * naive predictive model "
   ]
  },
  {
   "cell_type": "code",
   "execution_count": 29,
   "metadata": {},
   "outputs": [
    {
     "name": "stdout",
     "output_type": "stream",
     "text": [
      "Class BPD with min length 10\n",
      "____________________\n",
      "MAE of ASRM score prediction for naive predictive model and scoreMRSPM (level 2):\n",
      "[2.57167095, 2.11735167]\n",
      "MAE of QIDS score prediction for naive predictive model and scoreMRSPM (level 2):\n",
      "[4.67122329, 3.74499667]\n",
      "\n",
      "\n",
      "Class HC with min length 10\n",
      "____________________\n",
      "MAE of ASRM score prediction for naive predictive model and scoreMRSPM (level 2):\n",
      "[1.13730578, 0.82641092]\n",
      "MAE of QIDS score prediction for naive predictive model and scoreMRSPM (level 2):\n",
      "[1.89942284, 1.53168044]\n",
      "\n",
      "\n",
      "Class BD with min length 10\n",
      "____________________\n",
      "MAE of ASRM score prediction for naive predictive model and scoreMRSPM (level 2):\n",
      "[3.28666201, 2.38695222]\n",
      "MAE of QIDS score prediction for naive predictive model and scoreMRSPM (level 2):\n",
      "[4.60083124, 3.43730616]\n",
      "\n",
      "\n"
     ]
    }
   ],
   "source": [
    "if __name__ == \"__main__\":\n",
    "\n",
    "\n",
    "\n",
    "    sample_size=50\n",
    "\n",
    "    minlen=10\n",
    "\n",
    "    for class_ in [int(0), int(1),int(2)]:\n",
    "        \n",
    "        print('Class', class_dic[class_], 'with min length',minlen)\n",
    "        print(\"____________________\")\n",
    "\n",
    "        accuracy,mae=comprehensive_nomissing_model(Participants,\\\n",
    "                                                   class_,\\\n",
    "                                                   minlen=minlen,\\\n",
    "                                                   sample_size=sample_size,\\\n",
    "                                                   scaling=False)\n",
    "       \n",
    "        print(\"MAE of ASRM score prediction for naive predictive model and scoreMRSPM (level 2):\")\n",
    "        print(mae[0])\n",
    "        \n",
    "        print(\"MAE of QIDS score prediction for naive predictive model and scoreMRSPM (level 2):\")\n",
    "        print(mae[1])\n",
    "        print('\\n')\n",
    "\n",
    "\n"
   ]
  },
  {
   "cell_type": "markdown",
   "metadata": {},
   "source": [
    "**3.** Run severity prediction in Sec 3.2.2, with the following two models in one function 'comprehensive_nomissing_model':\n",
    "    \n",
    "    * missing-response-incorporated signature-based predictive model (scoreMRSCM, level2)\n",
    "    \n",
    " but with parameter \"scaling\" in 'comprehensive_nomissing_model' to be True to map the raw predicted score to corresponding severity of symptoms"
   ]
  },
  {
   "cell_type": "code",
   "execution_count": 38,
   "metadata": {},
   "outputs": [
    {
     "name": "stdout",
     "output_type": "stream",
     "text": [
      "Class BPD with min length 10\n",
      "____________________\n",
      "accuracy and MAE of (ASRM) severity prediction from scoreMRSPM (level 2):\n",
      "[0.82433, 0.625]\n",
      "accuracy and MAE of (QIDS) severity prediction from scoreMRSPM (level 2):\n",
      "[0.697524, 0.79427]\n",
      "\n",
      "\n",
      "Class HC with min length 10\n",
      "____________________\n",
      "accuracy and MAE of (ASRM) severity prediction from scoreMRSPM (level 2):\n",
      "[0.95825, 0.19069]\n",
      "accuracy and MAE of (QIDS) severity prediction from scoreMRSPM (level 2):\n",
      "[0.949011, 0.13825]\n",
      "\n",
      "\n",
      "Class BD with min length 10\n",
      "____________________\n",
      "accuracy and MAE of (ASRM) severity prediction from scoreMRSPM (level 2):\n",
      "[0.74327, 1.04623]\n",
      "accuracy and MAE of (QIDS) severity prediction from scoreMRSPM (level 2):\n",
      "[0.76425, 0.684]\n",
      "\n",
      "\n"
     ]
    }
   ],
   "source": [
    "if __name__ == \"__main__\":\n",
    "\n",
    "\n",
    "\n",
    "    sample_size=50\n",
    "\n",
    "    minlen=10\n",
    "\n",
    "    for class_ in [int(0), int(1),int(2)]:\n",
    "        \n",
    "        print('Class', class_dic[class_], 'with min length',minlen)\n",
    "        print(\"____________________\")\n",
    "\n",
    "\n",
    "\n",
    "        accuracy,mae=comprehensive_nomissing_model(Participants,\\\n",
    "                                                   class_,\\\n",
    "                                                   minlen=minlen,\\\n",
    "                                                   sample_size=sample_size,\\\n",
    "                                                   scaling=True)\n",
    "        \n",
    "        print(\"accuracy and MAE of (ASRM) severity prediction from scoreMRSPM (level 2):\")\n",
    "        print([accuracy[0][-1],mae[0][-1]])\n",
    "        \n",
    "        print(\"accuracy and MAE of (QIDS) severity prediction from scoreMRSPM (level 2):\")\n",
    "        print([accuracy[1][-1],mae[1][-1]])\n",
    "        print('\\n')"
   ]
  }
 ],
 "metadata": {
  "kernelspec": {
   "display_name": "Python 3",
   "language": "python",
   "name": "python3"
  },
  "language_info": {
   "codemirror_mode": {
    "name": "ipython",
    "version": 3
   },
   "file_extension": ".py",
   "mimetype": "text/x-python",
   "name": "python",
   "nbconvert_exporter": "python",
   "pygments_lexer": "ipython3",
   "version": "3.6.9"
  }
 },
 "nbformat": 4,
 "nbformat_minor": 2
}
